{
 "cells": [
  {
   "cell_type": "markdown",
   "id": "06a62ee1-5e30-4bd5-8c31-bb4e29d61600",
   "metadata": {},
   "source": [
    "# 1. Who developed Python Programming Language? "
   ]
  },
  {
   "cell_type": "markdown",
   "id": "d73d41cf-b210-497b-aea5-12db81d698a5",
   "metadata": {},
   "source": [
    "Ans:Python programming language was created by Guido van Rossum."
   ]
  },
  {
   "cell_type": "markdown",
   "id": "f31fe1ae-0c52-446f-8066-dfe083ef07a3",
   "metadata": {},
   "source": [
    "# 2. Which type of Programming does Python support? "
   ]
  },
  {
   "cell_type": "markdown",
   "id": "9c44d189-e846-4f88-b5f8-f7a107e4eee3",
   "metadata": {},
   "source": [
    "Ans:Python supports multiple programming paradigms, making it a versatile language. The main programming paradigms supported by Python are:\n",
    "\n",
    "Procedural Programming: Python allows you to write procedural code where you organize your program into functions and control the flow of execution using statements like loops and conditionals.\n",
    "\n",
    "Object-Oriented Programming (OOP): Python has robust support for object-oriented programming. You can define classes, create objects (instances), and use inheritance, encapsulation, and polymorphism to structure and organize your code.\n",
    "\n",
    "Functional Programming: Python supports functional programming concepts, such as higher-order functions, lambda functions (anonymous functions), and the ability to treat functions as first-class objects.\n",
    "\n",
    "Imperative Programming: Python allows you to write imperative code, where you specify a series of statements that describe how to perform a computation. This includes using loops, conditionals, and explicit assignments.\n",
    "\n",
    "Declarative Programming: Although Python is not purely a declarative programming language, it supports declarative programming to some extent. For example, you can use declarative constructs like list comprehensions and generator expressions to express computations concisely.\n",
    "\n",
    "Python's support for multiple programming paradigms makes it flexible and suitable for a wide range of applications. Developers can choose the programming paradigm that best fits their needs and leverage the appropriate features and constructs provided by Python to write clean, maintainable, and efficient code."
   ]
  },
  {
   "cell_type": "markdown",
   "id": "c2cd21ac-482a-40c7-a40c-2ebc30ccfe4b",
   "metadata": {},
   "source": [
    "# 3. Is Python case sensitive when dealing with identifiers? "
   ]
  },
  {
   "cell_type": "markdown",
   "id": "5517311b-21c4-4f8c-9668-c88aa2a75c98",
   "metadata": {},
   "source": [
    "Ans:Yes, Python is case sensitive when dealing with identifiers. "
   ]
  },
  {
   "cell_type": "markdown",
   "id": "27643545-db89-4631-b203-ad17f6912a81",
   "metadata": {},
   "source": [
    "# 4. What is the correct extension of the Python file? "
   ]
  },
  {
   "cell_type": "markdown",
   "id": "09db02e2-327b-4d67-8b88-2d3259f1c845",
   "metadata": {},
   "source": [
    "Ans:The correct extension for Python files is \".py\"."
   ]
  },
  {
   "cell_type": "markdown",
   "id": "7ea605e8-5f40-4c72-9f4f-d063c8113915",
   "metadata": {},
   "source": [
    "# 5. Is Python code compiled or interpreted?"
   ]
  },
  {
   "cell_type": "markdown",
   "id": "22fb085a-9443-485d-bc7d-7e316aae5bdc",
   "metadata": {},
   "source": [
    "Ans:Python code is both compiled and interpreted."
   ]
  },
  {
   "cell_type": "markdown",
   "id": "5b5f9184-f13b-4276-852c-a43e59719acc",
   "metadata": {},
   "source": [
    "# 6. Name a few blocks of code used to define in Python language?"
   ]
  },
  {
   "cell_type": "markdown",
   "id": "816b5493-2250-4bd0-9953-2f989813ed61",
   "metadata": {},
   "source": [
    "Ans:In Python, code blocks are defined using indentation rather than explicit block delimiters like braces ({}) in some other programming languages. Here are a few blocks of code commonly used in Python:\n",
    "\n",
    "1.Function Definition Block: A block of code that defines a function. It starts with the \"def\" keyword and ends when the indentation level decreases. \n",
    "\n",
    "2.Conditional Statement Blocks: Blocks of code that are executed conditionally based on the result of a condition. The blocks are defined using the \"if\", \"elif\" (optional), and \"else\" (optional) keywords.\n",
    "\n",
    "3.Loop Blocks: Blocks of code that are repeatedly executed based on a condition. The two main loop types in Python are \"for\" loops and \"while\" loops.\n",
    "\n",
    "4.Class Definition Block: A block of code that defines a class. It starts with the \"class\" keyword and ends when the indentation level decreases."
   ]
  },
  {
   "cell_type": "markdown",
   "id": "93251d52-4aab-4938-bb5b-7c2faa7b91a3",
   "metadata": {},
   "source": [
    "# 7. State a character used to give single-line comments in Python? "
   ]
  },
  {
   "cell_type": "markdown",
   "id": "1a71ab5f-d05c-4410-9e0c-db37045e3b2b",
   "metadata": {},
   "source": [
    "Ans:The character used to give single-line comments in Python is the hash symbol ('#')."
   ]
  },
  {
   "cell_type": "markdown",
   "id": "370d15fe-a181-43a0-ac88-487312812702",
   "metadata": {},
   "source": [
    "# 8. Mention functions which can help us to find the version of python that we are currently working on? "
   ]
  },
  {
   "cell_type": "markdown",
   "id": "68c98741-24a8-4f6e-ab28-d5b9955ceeb5",
   "metadata": {},
   "source": [
    "Ans:There are several functions that can help you find the version of Python you are currently working on. Here are a few commonly used ones:\n",
    "\n",
    "->sys.version or sys.version_info: These functions from the sys module provide information about the Python version. sys.version returns a string representing the version number, while sys.version_info returns a tuple containing detailed version information.\n",
    "\n",
    "->platform.python_version(): This function from the platform module returns a string representing the Python version.\n",
    "\n",
    "->sys.hexversion: This attribute from the sys module provides the version number encoded as a hexadecimal value."
   ]
  },
  {
   "cell_type": "markdown",
   "id": "a5be08a2-1975-441f-8820-f97360344a47",
   "metadata": {},
   "source": [
    "# 9. Python supports the creation of anonymous functions at runtime, using a construct called ___________"
   ]
  },
  {
   "cell_type": "markdown",
   "id": "8cebc8f1-1868-4a32-87bf-a581ae1a60fb",
   "metadata": {},
   "source": [
    "Ans:Python supports the creation of anonymous functions at runtime using a construct called \"lambda\" functions."
   ]
  },
  {
   "cell_type": "markdown",
   "id": "db3db22e-aa41-4cd4-bbb5-e119438cf0d7",
   "metadata": {},
   "source": [
    "# 10. What does pip stand for python? "
   ]
  },
  {
   "cell_type": "markdown",
   "id": "ab7d2756-eb93-474b-95b6-ffbb74f47f10",
   "metadata": {},
   "source": [
    "Ans:\"pip\" stands for \"Pip Installs Packages\" or sometimes referred to as \"Pip Installs Python\". "
   ]
  },
  {
   "cell_type": "markdown",
   "id": "0a8442b8-dc33-4e67-9c08-da47b09d0706",
   "metadata": {},
   "source": [
    "# 11. Mention a few built-in functions in python?"
   ]
  },
  {
   "cell_type": "markdown",
   "id": "40d7e1fe-fe19-4b1b-bb6c-d4093112966a",
   "metadata": {},
   "source": [
    "Ans:Python provides a rich set of built-in functions that are readily available for use without requiring any additional imports. Here are a few commonly used built-in functions in Python:\n",
    "\n",
    "print(): Used to display output on the console.\n",
    "\n",
    "len(): Returns the length of an object, such as a string, list, or tuple.\n",
    "\n",
    "type(): Returns the type of an object.\n",
    "\n",
    "int(), float(), str(), bool(): Convert values to integer, float, string, and boolean types, respectively.\n",
    "\n",
    "input(): Accepts user input from the console.\n",
    "\n",
    "range(): Generates a sequence of numbers.\n",
    "\n",
    "sum(): Returns the sum of a sequence of numbers.\n"
   ]
  },
  {
   "cell_type": "markdown",
   "id": "6d7ee375-0b46-48b5-aa35-78c3cc984116",
   "metadata": {},
   "source": [
    "# 12. What is the maximum possible length of an identifier in Python?"
   ]
  },
  {
   "cell_type": "markdown",
   "id": "89fe4e51-788e-4387-b7ec-97c87ef649eb",
   "metadata": {},
   "source": [
    "Ans:In Python, the maximum possible length of an identifier is not explicitly defined. However, the Python language specification (PEP 8) recommends limiting the length of an identifier to 79 characters to maintain code readability and avoid excessively long lines."
   ]
  },
  {
   "cell_type": "markdown",
   "id": "1d93054c-7820-4a28-99d5-e165829a90ec",
   "metadata": {},
   "source": [
    "# 13. What are the benefits of using Python?"
   ]
  },
  {
   "cell_type": "markdown",
   "id": "ebece6c7-6c0b-4ec9-8d68-568e9f9a86c1",
   "metadata": {},
   "source": [
    "Ans:Python offers several benefits that make it a popular and widely used programming language. Here are some of the key benefits of using Python:\n",
    "\n",
    "Readability and Simplicity: Python emphasizes code readability and uses a clean and straightforward syntax. It employs indentation and whitespace to define code blocks, which enhances code readability and reduces the need for excessive syntax or punctuation. This makes Python easy to learn, understand, and maintain.\n",
    "\n",
    "Versatility and Flexibility: Python is a versatile language that can be used for a wide range of applications. It supports various programming paradigms, including procedural, object-oriented, and functional programming. Python has an extensive standard library and a vast ecosystem of third-party packages and frameworks, which allows developers to tackle diverse tasks and projects efficiently.\n",
    "\n",
    "Large and Active Community: Python has a large and active community of developers, users, and contributors. This vibrant community contributes to the development of libraries, frameworks, and tools, providing extensive support and resources. It also promotes collaboration, knowledge sharing, and continuous improvement of the language.\n",
    "\n",
    "Cross-platform Compatibility: Python is a cross-platform language, meaning that Python code can run on different operating systems, including Windows, macOS, Linux, and more. This portability allows developers to write code once and run it on multiple platforms without significant modifications.\n",
    "\n",
    "Productivity and Rapid Development: Python's simplicity and expressiveness contribute to increased productivity and faster development cycles. The language offers features like dynamic typing, automatic memory management, and a large standard library, which reduce development time and effort. Python's focus on code readability and simplicity also aids in writing clean and maintainable code.\n",
    "\n",
    "Integration and Interoperability: Python has excellent integration capabilities with other languages and systems. It supports interoperability with languages like C/C++, Java, and .NET, allowing developers to leverage existing code and libraries. Python can be easily embedded in applications or used as a scripting language within larger software systems.\n",
    "\n",
    "Data Science and Machine Learning: Python has become a leading language in the fields of data science, machine learning, and artificial intelligence. It offers powerful libraries like NumPy, pandas, and scikit-learn, which provide efficient tools for data manipulation, analysis, and modeling. Python's simplicity and strong community support make it a popular choice for data scientists and machine learning practitioners.\n",
    "\n",
    "These are just some of the benefits of using Python. Its combination of readability, versatility, and robust community support has made it a top choice for a wide range of applications, from web development and automation to scientific computing and data analysis."
   ]
  },
  {
   "cell_type": "markdown",
   "id": "8a5cefe5-5b7a-41f5-8e5a-ceebd604aa45",
   "metadata": {},
   "source": [
    "# 14. How is memory managed in Python?"
   ]
  },
  {
   "cell_type": "markdown",
   "id": "96c26f87-7e7d-4846-9a9c-273f4a7ab048",
   "metadata": {},
   "source": [
    "Ans:In Python, memory management is handled automatically through a process known as \"garbage collection.\" The primary mechanism for memory management in Python is reference counting, supplemented by a cycle detection algorithm for identifying and reclaiming cyclically referenced objects.\n",
    "\n",
    "Here's how memory management works in Python:\n",
    "\n",
    "Reference Counting: Python keeps track of the number of references to an object. Every object has a reference count, which is incremented when a reference to the object is created and decremented when a reference is deleted or goes out of scope. When the reference count of an object reaches zero, meaning no more references exist, the memory occupied by the object is freed automatically.\n",
    "\n",
    "Garbage Collection: In addition to reference counting, Python employs a garbage collector to handle objects that are involved in reference cycles. Reference cycles occur when a group of objects references each other, forming a cycle where no individual object can be reached from the outside. The garbage collector periodically detects and collects these cyclically referenced objects by reclaiming their memory."
   ]
  },
  {
   "cell_type": "markdown",
   "id": "99c73748-6381-49dd-b3d5-df956fdfd3c4",
   "metadata": {},
   "source": [
    "# 15. How to install Python on Windows and set path variables?"
   ]
  },
  {
   "cell_type": "markdown",
   "id": "4c5ebfaf-0958-4575-bfe7-fa6a133865ea",
   "metadata": {},
   "source": [
    "Ans:To install Python on Windows and set the path variables, you can follow these steps:\n",
    "\n",
    "Download Python: Visit the official Python website at https://www.python.org and navigate to the Downloads section. Choose the latest version of Python for Windows and download the installer suitable for your system (either 32-bit or 64-bit).\n",
    "\n",
    "Run the Installer: Locate the downloaded installer file and double-click on it to run the installation wizard.\n",
    "\n",
    "Customize Installation (Optional): During the installation process, you'll be presented with various options. You can choose the installation location, customize the features to install, and select additional components like pip (the package installer for Python) and the option to add Python to PATH. Ensure that you select the option to add Python to PATH, as this will enable you to use Python from any command prompt.\n",
    "\n",
    "Start the Installation: Proceed with the installation by clicking on the \"Install Now\" button. The installer will extract and install Python on your system.\n",
    "\n",
    "Add Python to PATH (if not done during installation): If you didn't select the option to add Python to PATH during the installation process, you can manually add it by following these steps:\n",
    "\n",
    "Open the Control Panel and go to \"System and Security\" or \"System\" (depending on your Windows version).\n",
    "Click on \"System\" and then click on \"Advanced system settings\" on the left-hand side.\n",
    "In the System Properties window, click on the \"Environment Variables\" button.\n",
    "In the Environment Variables window, locate the \"Path\" variable under the \"System variables\" section and click on \"Edit\".\n",
    "Add the path to your Python installation directory (e.g., C:\\Python39 or similar) at the end of the \"Variable value\" field. Make sure to include a semicolon (;) before adding the path to separate it from existing paths.\n",
    "Click \"OK\" to save the changes.\n",
    "Verify Python Installation: Open a new command prompt window and type python followed by Enter. You should see the Python interpreter prompt with the version information, indicating that Python is installed and configured correctly.\n",
    "\n",
    "That's it! You have successfully installed Python on your Windows system and set up the path variables. Now you can start using Python by running Python scripts or using the Python interpreter from any command prompt."
   ]
  },
  {
   "cell_type": "markdown",
   "id": "eb12d5b6-a647-401e-9898-b32312844694",
   "metadata": {},
   "source": [
    "# 16. Is indentation required in python?"
   ]
  },
  {
   "cell_type": "markdown",
   "id": "322b3b99-c12d-4a0f-9ffd-3e53e31a07eb",
   "metadata": {},
   "source": [
    "Ans:Yes, indentation is required in Python. Unlike many other programming languages that use braces or other symbols to denote blocks of code, Python uses indentation (whitespace at the beginning of lines) to define the structure and hierarchy of the code."
   ]
  },
  {
   "cell_type": "code",
   "execution_count": null,
   "id": "8edf5463-7f3a-4fd9-912f-e4955d11725e",
   "metadata": {},
   "outputs": [],
   "source": []
  }
 ],
 "metadata": {
  "kernelspec": {
   "display_name": "Python 3 (ipykernel)",
   "language": "python",
   "name": "python3"
  },
  "language_info": {
   "codemirror_mode": {
    "name": "ipython",
    "version": 3
   },
   "file_extension": ".py",
   "mimetype": "text/x-python",
   "name": "python",
   "nbconvert_exporter": "python",
   "pygments_lexer": "ipython3",
   "version": "3.10.8"
  }
 },
 "nbformat": 4,
 "nbformat_minor": 5
}
