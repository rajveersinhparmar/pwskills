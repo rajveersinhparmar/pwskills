{
 "cells": [
  {
   "cell_type": "markdown",
   "id": "9758dc15-f29c-464e-892d-12c8a7ebac6e",
   "metadata": {},
   "source": [
    "# Q1.Explain Class and Object with respect to Object-Oriented Programming. Give a suitable example."
   ]
  },
  {
   "cell_type": "markdown",
   "id": "bda0f56b-51a6-4963-b36d-dfa0f2a3315f",
   "metadata": {},
   "source": [
    "Ans:In object-oriented programming (OOP), a class is a blueprint or template for creating objects. It defines a set of attributes (data) and behaviors (methods) that objects of that class will possess. A class serves as a blueprint from which individual objects, known as instances, are created.\n",
    "An object, on the other hand, is an instance of a class. It represents a specific entity that is created based on the class definition. Objects have their own unique data and can perform actions based on the behaviors defined in the class.\n",
    "To understand this concept better, let's consider an example of a class called Car. The Car class can have attributes such as brand, model, color, and mileage, and behaviors such as start(), accelerate(), and stop()."
   ]
  },
  {
   "cell_type": "code",
   "execution_count": 1,
   "id": "cb0db2cf-afcf-4f82-82cb-19fd3fb0e4f1",
   "metadata": {},
   "outputs": [],
   "source": [
    "class Car:\n",
    "    def __init__(self, brand, model, color, mileage):\n",
    "        self.brand = brand\n",
    "        self.model = model\n",
    "        self.color = color\n",
    "        self.mileage = mileage\n",
    "\n",
    "    def start(self):\n",
    "        print(\"The car has started.\")\n",
    "\n",
    "    def accelerate(self):\n",
    "        print(\"The car is accelerating.\")\n",
    "\n",
    "    def stop(self):\n",
    "        print(\"The car has stopped.\")"
   ]
  },
  {
   "cell_type": "markdown",
   "id": "ace6431a-1f96-44d4-a5de-86985a93ed0a",
   "metadata": {},
   "source": [
    "In this example, Car is the class that defines the blueprint for creating car objects. The class has attributes like brand, model, color, and mileage, which represent the data associated with each car object. It also has behaviors like start(), accelerate(), and stop(), which represent the actions that a car object can perform.\n",
    "\n",
    "To create individual car objects, we can instantiate the Car class:"
   ]
  },
  {
   "cell_type": "code",
   "execution_count": 2,
   "id": "36592970-6bdb-45a6-9ca9-814aa98eaea0",
   "metadata": {},
   "outputs": [],
   "source": [
    "my_car = Car(\"Toyota\", \"Corolla\", \"Silver\", 50000)\n",
    "your_car = Car(\"Honda\", \"Civic\", \"Red\", 35000)"
   ]
  },
  {
   "cell_type": "markdown",
   "id": "5324f09e-66db-4984-89bb-b87888d1e988",
   "metadata": {},
   "source": [
    "In this example, my_car and your_car are two instances (objects) of the Car class. Each instance has its own unique set of attribute values. We can access the attributes and call the methods of each object"
   ]
  },
  {
   "cell_type": "code",
   "execution_count": 3,
   "id": "7164f07e-ec53-46fc-9d06-00059713e20a",
   "metadata": {},
   "outputs": [
    {
     "name": "stdout",
     "output_type": "stream",
     "text": [
      "Toyota\n",
      "Red\n",
      "The car has started.\n",
      "The car is accelerating.\n"
     ]
    }
   ],
   "source": [
    "print(my_car.brand)  \n",
    "print(your_car.color)\n",
    "\n",
    "my_car.start()       \n",
    "your_car.accelerate()"
   ]
  },
  {
   "cell_type": "markdown",
   "id": "6fd0e686-5f05-4757-99e8-c96652feea4d",
   "metadata": {},
   "source": [
    "# Q2. Name the four pillars of OOPs."
   ]
  },
  {
   "cell_type": "markdown",
   "id": "f907672e-cf1f-45dc-a370-a35545f3f379",
   "metadata": {},
   "source": [
    "Ans:The four pillars of object-oriented programming (OOP) are:\n",
    "\n",
    "1)Encapsulation: Encapsulation refers to the bundling of data and methods (functions) together into a single unit called a class. It allows the data to be hidden and accessed only through the defined methods, providing control over data access and modification. Encapsulation helps in achieving data abstraction and maintaining the integrity of the data.\n",
    "\n",
    "2)Inheritance: Inheritance is a mechanism that allows a class to inherit properties and behaviors from another class called a parent or base class. The class that inherits the properties is called a child or derived class. Inheritance promotes code reuse and allows for the creation of hierarchical relationships between classes.\n",
    "\n",
    "3)Polymorphism: Polymorphism means the ability of an object to take on many forms. It allows objects of different classes to be treated as objects of a common superclass. Polymorphism enables methods to be defined in the superclass and overridden in the subclasses, allowing different implementations based on the specific context of each object.\n",
    "\n",
    "4)Abstraction: Abstraction involves representing complex real-world entities as simplified models within a program. It focuses on the essential features of an object or system, hiding unnecessary details. Abstraction allows programmers to create abstract classes and interfaces that define a set of common properties and behaviors for subclasses to implement. It helps in managing complexity and facilitates code modularization and maintenance.\n",
    "\n",
    "These four pillars of OOP provide a foundation for designing and implementing object-oriented systems, promoting code reusability, maintainability, and scalability. They help in organizing code, managing dependencies, and modeling real-world entities effectively."
   ]
  },
  {
   "cell_type": "markdown",
   "id": "d34e309f-6429-4a6d-9fbf-8b108fceb586",
   "metadata": {},
   "source": [
    "# Q3. Explain why the __init__() function is used. Give a suitable example."
   ]
  },
  {
   "cell_type": "markdown",
   "id": "2f29f5f0-07ab-4746-9cce-12e891ab7db3",
   "metadata": {},
   "source": [
    "Ans:The __init__() function is a special method in Python classes that is used for initializing objects. It is called a constructor because it gets invoked automatically when a new instance (object) of a class is created. The primary purpose of the __init__() method is to set the initial state (attributes) of an object.\n",
    "\n",
    "Here's an example to illustrate the use of the __init__() method:"
   ]
  },
  {
   "cell_type": "code",
   "execution_count": 4,
   "id": "da77d27a-24a0-4472-9bf8-3b38f82cc6e2",
   "metadata": {},
   "outputs": [
    {
     "name": "stdout",
     "output_type": "stream",
     "text": [
      "Toyota\n",
      "Red\n",
      "The Toyota Corolla has started.\n",
      "The Honda Civic has started.\n"
     ]
    }
   ],
   "source": [
    "class Car:\n",
    "    def __init__(self, brand, model, color):\n",
    "        self.brand = brand\n",
    "        self.model = model\n",
    "        self.color = color\n",
    "\n",
    "    def start(self):\n",
    "        print(f\"The {self.brand} {self.model} has started.\")\n",
    "\n",
    "my_car = Car(\"Toyota\", \"Corolla\", \"Silver\")\n",
    "your_car = Car(\"Honda\", \"Civic\", \"Red\")\n",
    "\n",
    "print(my_car.brand)\n",
    "print(your_car.color)\n",
    "my_car.start()        \n",
    "your_car.start()      \n"
   ]
  },
  {
   "cell_type": "markdown",
   "id": "908ef654-92f1-43fb-b7e7-8381fd314540",
   "metadata": {},
   "source": [
    "In this example, the Car class has an __init__() method defined with three parameters: brand, model, and color. These parameters represent the initial attributes of a car object. Inside the __init__() method, the values of these parameters are assigned to the corresponding instance variables (self.brand, self.model, and self.color).\n",
    "\n",
    "When we create objects of the Car class, like my_car = Car(\"Toyota\", \"Corolla\", \"Silver\"), the __init__() method is automatically called, and the values provided during object creation are passed as arguments to the method. The __init__() method then initializes the object's attributes based on these values.\n",
    "\n",
    "The __init__() method allows us to set the initial state of an object and provide values for its attributes at the time of object creation. It ensures that every object of the class starts with the specified attributes in a consistent state. Without the __init__() method, we would need to manually set the attributes of each object after creation, which could lead to errors and make the code less readable and maintainable.\n",
    "\n",
    "Overall, the __init__() method plays a crucial role in initializing object state and is a fundamental part of object-oriented programming in Python."
   ]
  },
  {
   "cell_type": "markdown",
   "id": "6b4f6783-e15e-4788-ab02-2dede343ae32",
   "metadata": {},
   "source": [
    "# Q4. Why self is used in OOPs?"
   ]
  },
  {
   "cell_type": "markdown",
   "id": "77da0704-1b56-4422-8238-e5e377222545",
   "metadata": {},
   "source": [
    "Ans:In object-oriented programming (OOP), the self keyword is used to refer to the instance of a class within the class itself. It is a convention in Python to use self as the first parameter name in the method definitions of a class.\n",
    "\n",
    "The primary purpose of self is to access and modify the attributes (data) and methods (functions) of an instance (object) from within the class. It acts as a reference to the specific instance being operated upon, allowing the class to distinguish between different instances and work with their unique data.\n",
    "\n",
    "When a method is called on an object, the object itself is automatically passed as the first argument to the method, which is typically assigned to the self parameter. This allows the method to access and manipulate the instance's attributes and call its other methods using self.attribute or self.method() syntax.\n",
    "\n",
    "Here's an example to illustrate the use of self in OOP:"
   ]
  },
  {
   "cell_type": "code",
   "execution_count": 5,
   "id": "d190e1dd-9c39-4795-81f9-d05d564e1968",
   "metadata": {},
   "outputs": [
    {
     "name": "stdout",
     "output_type": "stream",
     "text": [
      "Radius: 5\n",
      "Area: 78.5\n"
     ]
    }
   ],
   "source": [
    "class Circle:\n",
    "    def __init__(self, radius):\n",
    "        self.radius = radius\n",
    "\n",
    "    def calculate_area(self):\n",
    "        area = 3.14 * self.radius**2\n",
    "        return area\n",
    "\n",
    "    def print_radius(self):\n",
    "        print(\"Radius:\", self.radius)\n",
    "\n",
    "my_circle = Circle(5)\n",
    "\n",
    "my_circle.print_radius()\n",
    "print(\"Area:\", my_circle.calculate_area())\n"
   ]
  },
  {
   "cell_type": "markdown",
   "id": "7fadf879-367c-485f-bad3-6f7cc34cbf8d",
   "metadata": {},
   "source": [
    "In this example, the Circle class has an __init__() method that takes the radius parameter and initializes the self.radius attribute of the object. The other methods, calculate_area() and print_radius(), also use self to refer to the instance attributes.\n",
    "\n",
    "By using self, the methods within the class can access the specific instance's attributes and perform operations based on their values. Each instance of the class maintains its own state, and self helps in keeping track of the instance-specific data and behaviors.\n",
    "\n",
    "It's important to note that the use of self is a convention and not a strict requirement. However, following this convention makes the code more readable, understandable, and consistent with the Python community's expectations.\n",
    "\n",
    "Overall, self is used in OOP to reference the instance being operated upon, allowing for proper encapsulation and manipulation of instance-specific attributes and methods within the class."
   ]
  },
  {
   "cell_type": "markdown",
   "id": "3be38413-3afb-4efd-ad85-673f02038db6",
   "metadata": {},
   "source": [
    "# Q5. What is inheritance? Give an example for each type of inheritance."
   ]
  },
  {
   "cell_type": "markdown",
   "id": "a88056c0-3eed-44bd-9003-541e01d5cd13",
   "metadata": {},
   "source": [
    "Inheritance is a fundamental concept in object-oriented programming (OOP) that allows a class to inherit properties and behaviors from another class. The class from which properties and behaviors are inherited is called the parent class, base class, or superclass. The class that inherits these properties and behaviors is called the child class, derived class, or subclass.\n",
    "\n",
    "Inheritance provides the following benefits:\n",
    "\n",
    "1.Code Reusability: Inheritance allows you to reuse the code and functionality defined in the parent class. The child class automatically gains access to all the attributes and methods of the parent class without having to redefine them.\n",
    "\n",
    "2.Modularity: Inheritance promotes modularity by allowing you to create hierarchical relationships between classes. You can create a base class that defines common attributes and behaviors, and then derive multiple specialized classes from it, each adding its own unique features.\n",
    "\n",
    "There are different types of inheritance in OOP, including:\n",
    "\n",
    "1.Single Inheritance: In single inheritance, a class inherits from a single parent class. This is the simplest form of inheritance."
   ]
  },
  {
   "cell_type": "code",
   "execution_count": 11,
   "id": "64824299-8fdb-408f-8c9a-ddfcf75f49b8",
   "metadata": {},
   "outputs": [
    {
     "name": "stdout",
     "output_type": "stream",
     "text": [
      "Buddy is\n",
      "Eating...\n",
      "Barking\n"
     ]
    }
   ],
   "source": [
    "class Animal:\n",
    "    def __init__(self, name):\n",
    "        self.name = name\n",
    "\n",
    "    def eat(self):\n",
    "        print(\"Eating...\")\n",
    "\n",
    "class Dog(Animal):\n",
    "    def bark(self):\n",
    "        print(\"Barking\")\n",
    "\n",
    "my_dog = Dog(\"Buddy\")\n",
    "print(my_dog.name ,\"is\") \n",
    "my_dog.eat()  \n",
    "my_dog.bark()  "
   ]
  },
  {
   "cell_type": "markdown",
   "id": "c6152026-bac1-43da-ab60-356ccf889f8e",
   "metadata": {},
   "source": [
    "In this example, the Animal class is the parent class, and the Dog class is the child class that inherits from Animal. The Dog class gains access to the name attribute and eat() method defined in the Animal class.\n",
    "\n",
    "2.Multiple Inheritance: Multiple inheritance allows a class to inherit from multiple parent classes. The child class inherits attributes and behaviors from all the parent classes."
   ]
  },
  {
   "cell_type": "code",
   "execution_count": 14,
   "id": "662721fd-f96f-41b1-b2a2-5093abbdb061",
   "metadata": {},
   "outputs": [
    {
     "name": "stdout",
     "output_type": "stream",
     "text": [
      "Tesla can\n",
      "Driving...\n",
      "Charging...\n"
     ]
    }
   ],
   "source": [
    "class Car:\n",
    "    def __init__(self, brand):\n",
    "        self.brand = brand\n",
    "\n",
    "    def drive(self):\n",
    "        print(\"Driving...\")\n",
    "\n",
    "class Electric:\n",
    "    def charge(self):\n",
    "        print(\"Charging...\")\n",
    "\n",
    "class ElectricCar(Car, Electric):\n",
    "    pass\n",
    "\n",
    "my_electric_car = ElectricCar(\"Tesla\")\n",
    "print(my_electric_car.brand, \"can\")\n",
    "my_electric_car.drive()  \n",
    "my_electric_car.charge()  \n"
   ]
  },
  {
   "cell_type": "markdown",
   "id": "b13fcb56-55ff-4524-880d-9ac468bcb7b5",
   "metadata": {},
   "source": [
    "In this example, the ElectricCar class inherits from both the Car class and the Electric class. It can access attributes and methods from both parent classes, resulting in a combination of functionalities.\n",
    "\n",
    "3.Multilevel Inheritance: Multilevel inheritance involves a chain of inheritance, where a derived class becomes the base class for another class."
   ]
  },
  {
   "cell_type": "code",
   "execution_count": 15,
   "id": "22fd9bbf-b545-4f4a-b29f-a186719064d4",
   "metadata": {},
   "outputs": [
    {
     "name": "stdout",
     "output_type": "stream",
     "text": [
      "Eating...\n",
      "Woof!\n",
      "Guarding...\n"
     ]
    }
   ],
   "source": [
    "class Animal:\n",
    "    def eat(self):\n",
    "        print(\"Eating...\")\n",
    "\n",
    "class Dog(Animal):\n",
    "    def bark(self):\n",
    "        print(\"Woof!\")\n",
    "\n",
    "class Bulldog(Dog):\n",
    "    def guard(self):\n",
    "        print(\"Guarding...\")\n",
    "my_bulldog = Bulldog()\n",
    "my_bulldog.eat() \n",
    "my_bulldog.bark() \n",
    "my_bulldog.guard()  \n"
   ]
  },
  {
   "cell_type": "markdown",
   "id": "53cabdd6-a872-42c3-a1ad-334dd9452a4e",
   "metadata": {},
   "source": [
    "In this example, the Animal class is the base class, the Dog class inherits from Animal, and the Bulldog class inherits from Dog. The Bulldog class has access to the attributes and methods defined in all the ancestor classes, forming a mult"
   ]
  },
  {
   "cell_type": "code",
   "execution_count": null,
   "id": "8723d48a-cd2b-4346-8d40-026c1f22fab5",
   "metadata": {},
   "outputs": [],
   "source": []
  }
 ],
 "metadata": {
  "kernelspec": {
   "display_name": "Python 3 (ipykernel)",
   "language": "python",
   "name": "python3"
  },
  "language_info": {
   "codemirror_mode": {
    "name": "ipython",
    "version": 3
   },
   "file_extension": ".py",
   "mimetype": "text/x-python",
   "name": "python",
   "nbconvert_exporter": "python",
   "pygments_lexer": "ipython3",
   "version": "3.10.8"
  }
 },
 "nbformat": 4,
 "nbformat_minor": 5
}
