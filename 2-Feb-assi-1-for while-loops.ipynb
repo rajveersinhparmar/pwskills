{
 "cells": [
  {
   "cell_type": "raw",
   "id": "1c01cf03-e17b-429f-a33c-cc886e7b3f81",
   "metadata": {},
   "source": [
    "For Loop Example:\n",
    "A for loop is typically used when you know the number of iterations in advance or when you need to iterate over a specific range.\n"
   ]
  },
  {
   "cell_type": "code",
   "execution_count": null,
   "id": "f95bb82c-9915-4cb2-a262-38c7aff05ae8",
   "metadata": {},
   "outputs": [],
   "source": [
    "for i in range(1, 5):\n",
    "    print(i)"
   ]
  },
  {
   "cell_type": "raw",
   "id": "6163774a-30e6-4ec2-87ea-15d531e61084",
   "metadata": {},
   "source": [
    "While Loop Example:\n",
    "A while loop is useful when you want to repeat a block of code until a certain condition is met, and you may not know in advance how many iterations are needed."
   ]
  },
  {
   "cell_type": "code",
   "execution_count": null,
   "id": "947af09b-9811-44e1-9364-2daf20e7b474",
   "metadata": {},
   "outputs": [],
   "source": [
    "i = 1\n",
    "while i <= 5:\n",
    "    print(i)\n",
    "    i += 1"
   ]
  }
 ],
 "metadata": {
  "kernelspec": {
   "display_name": "Python 3 (ipykernel)",
   "language": "python",
   "name": "python3"
  },
  "language_info": {
   "codemirror_mode": {
    "name": "ipython",
    "version": 3
   },
   "file_extension": ".py",
   "mimetype": "text/x-python",
   "name": "python",
   "nbconvert_exporter": "python",
   "pygments_lexer": "ipython3",
   "version": "3.10.8"
  }
 },
 "nbformat": 4,
 "nbformat_minor": 5
}
