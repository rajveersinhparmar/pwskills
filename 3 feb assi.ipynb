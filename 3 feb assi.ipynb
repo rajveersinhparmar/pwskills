{
 "cells": [
  {
   "cell_type": "markdown",
   "id": "82e7a695-d62c-4427-a299-98dfdcc5a9cb",
   "metadata": {},
   "source": [
    "# Q1. Which keyword is used to create a function? Create a function to return a list of odd numbers in the range of 1 to 25."
   ]
  },
  {
   "cell_type": "markdown",
   "id": "053512fe-072b-4efd-9cf4-091340bb0db2",
   "metadata": {},
   "source": [
    "Ans:The keyword used to create a function in Python is \"def\"."
   ]
  },
  {
   "cell_type": "code",
   "execution_count": 1,
   "id": "2c0c146c-5c3d-4b96-8043-2f0125365d97",
   "metadata": {},
   "outputs": [
    {
     "name": "stdout",
     "output_type": "stream",
     "text": [
      "List of odd numbers: [1, 3, 5, 7, 9, 11, 13, 15, 17, 19, 21, 23, 25]\n"
     ]
    }
   ],
   "source": [
    "def get_odd_numbers():\n",
    "    odd_numbers = []\n",
    "\n",
    "    for num in range(1, 26):\n",
    "        if num % 2 != 0:\n",
    "            odd_numbers.append(num)\n",
    "\n",
    "    return odd_numbers\n",
    "\n",
    "result = get_odd_numbers()\n",
    "print(\"List of odd numbers:\", result)\n"
   ]
  },
  {
   "cell_type": "markdown",
   "id": "d37289d0-f5b2-4b71-8fee-8f59525c51a6",
   "metadata": {},
   "source": [
    "# Q2. Why *args and **kwargs is used in some functions? Create a function each for *args and **kwargs to demonstrate their use."
   ]
  },
  {
   "cell_type": "markdown",
   "id": "56d8e42d-8eaf-4a20-82e0-63201cd28e84",
   "metadata": {},
   "source": [
    "Ans:The *args and **kwargs are used in Python functions to allow the passing of a variable number of arguments.\n",
    "*args (Arbitrary Arguments):\n",
    "The *args parameter allows a function to accept any number of positional arguments. The *args parameter collects these arguments into a tuple within the function.\n",
    "Here's an example that demonstrates the use of *args in a function:"
   ]
  },
  {
   "cell_type": "code",
   "execution_count": 3,
   "id": "4095775f-dc40-41a6-b2d4-197bc13cded7",
   "metadata": {},
   "outputs": [
    {
     "name": "stdout",
     "output_type": "stream",
     "text": [
      "Hello, PW\n",
      "Hello, Skills\n"
     ]
    }
   ],
   "source": [
    "def greet(*args):\n",
    "    for name in args:\n",
    "        print(\"Hello,\", name)\n",
    "\n",
    "greet(\"PW\", \"Skills\")\n"
   ]
  },
  {
   "cell_type": "markdown",
   "id": "9d91a66b-f3d2-4e7a-991d-1211bce73e2b",
   "metadata": {},
   "source": [
    "**kwargs:\n",
    "The **kwargs parameter allows a function to accept any number of keyword arguments. The **kwargs parameter collects these arguments into a dictionary within the function.\n",
    "\n",
    "Here's an example that demonstrates the use of **kwargs in a function:"
   ]
  },
  {
   "cell_type": "code",
   "execution_count": 5,
   "id": "fc67cc65-da95-4a5d-86a4-0716b18b5dc3",
   "metadata": {},
   "outputs": [
    {
     "name": "stdout",
     "output_type": "stream",
     "text": [
      "name: RAJ\n",
      "age: 21\n",
      "major: Data Science\n"
     ]
    }
   ],
   "source": [
    "def print_student_info(**kwargs):\n",
    "    for key, value in kwargs.items():\n",
    "        print(key + \":\", value)\n",
    "\n",
    "print_student_info(name=\"RAJ\", age=21, major=\"Data Science\")\n"
   ]
  },
  {
   "cell_type": "markdown",
   "id": "ba1c674c-c697-42a2-b933-0aff071a30a0",
   "metadata": {},
   "source": [
    "Both *args and **kwargs provide flexibility when defining functions that need to handle varying numbers of arguments. *args is used for positional arguments, while **kwargs is used for keyword arguments. You can use one or both of them in a function, depending on the desired functionality."
   ]
  },
  {
   "cell_type": "markdown",
   "id": "92c268fa-3eef-4334-b332-ddacf17a1261",
   "metadata": {},
   "source": [
    "# Q3. What is an iterator in python? Name the method used to initialise the iterator object and the method used for iteration. Use these methods to print the first five elements of the given list [2, 4, 6, 8, 10, 12, 14,16, 18, 20]."
   ]
  },
  {
   "cell_type": "markdown",
   "id": "95fcb24a-20fa-4e3a-9ca2-4bc5f8e3f02e",
   "metadata": {},
   "source": [
    "Ans:In Python, an iterator is an object that implements the iterator protocol, which consists of the __iter__() method for initializing the iterator object and the __next__() method for iterating over the elements. An iterator allows us to traverse through a sequence of elements one by one.\n",
    "To print the first five elements of the given list [2, 4, 6, 8, 10, 12, 14, 16, 18, 20], we can use the iter() function to create an iterator object and the next() function to iterate over the elements."
   ]
  },
  {
   "cell_type": "code",
   "execution_count": 6,
   "id": "846a7c75-bd51-4a1f-bca7-a0e209a0d618",
   "metadata": {},
   "outputs": [
    {
     "name": "stdout",
     "output_type": "stream",
     "text": [
      "First five elements of the list:\n",
      "2\n",
      "4\n",
      "6\n",
      "8\n",
      "10\n"
     ]
    }
   ],
   "source": [
    "my_list = [2, 4, 6, 8, 10, 12, 14, 16, 18, 20]\n",
    "my_iterator = iter(my_list)\n",
    "\n",
    "print(\"First five elements of the list:\")\n",
    "\n",
    "for _ in range(5):\n",
    "    element = next(my_iterator)\n",
    "    print(element)"
   ]
  },
  {
   "cell_type": "markdown",
   "id": "63d6a728-4945-4067-8a8b-ca8096e9bfc6",
   "metadata": {},
   "source": [
    "# Q4. What is a generator function in python? Why yield keyword is used? Give an example of a generator function."
   ]
  },
  {
   "cell_type": "markdown",
   "id": "9efb6834-d2a4-4d32-a780-66db230efd78",
   "metadata": {},
   "source": [
    "Ans:In Python, a generator function is a special type of function that returns an iterator (a generator) instead of a single value. It allows us to generate a sequence of values on-the-fly, rather than creating and storing the entire sequence in memory at once. Generator functions use the yield keyword to define the values to be generated.\n",
    "The yield keyword is used in a generator function to pause the execution of the function and yield a value to the caller. When the function encounters a yield statement, it suspends its execution, retains its internal state, and returns the yielded value. The next time the generator's __next__() method is called, the function resumes from where it left off, continuing its execution until the next yield statement."
   ]
  },
  {
   "cell_type": "code",
   "execution_count": 7,
   "id": "dd41c6f1-b4a5-467f-a91e-5bf65c980851",
   "metadata": {},
   "outputs": [
    {
     "name": "stdout",
     "output_type": "stream",
     "text": [
      "Generated even numbers:\n",
      "0\n",
      "2\n",
      "4\n",
      "6\n",
      "8\n"
     ]
    }
   ],
   "source": [
    "def generate_even_numbers(n):\n",
    "    for i in range(n):\n",
    "        if i % 2 == 0:\n",
    "            yield i\n",
    "\n",
    "my_generator = generate_even_numbers(10)\n",
    "print(\"Generated even numbers:\")\n",
    "for number in my_generator:\n",
    "    print(number)\n"
   ]
  },
  {
   "cell_type": "markdown",
   "id": "5d67e197-0325-4048-a22d-4a4d552ab928",
   "metadata": {},
   "source": [
    "# Q5. Create a generator function for prime numbers less than 1000. Use the next() method to print the first 20 prime numbers."
   ]
  },
  {
   "cell_type": "code",
   "execution_count": 8,
   "id": "fb721c3d-03d1-4e38-ad88-52abb868bce2",
   "metadata": {},
   "outputs": [
    {
     "name": "stdout",
     "output_type": "stream",
     "text": [
      "First 20 prime numbers:\n",
      "2\n",
      "3\n",
      "5\n",
      "7\n",
      "11\n",
      "13\n",
      "17\n",
      "19\n",
      "23\n",
      "29\n",
      "31\n",
      "37\n",
      "41\n",
      "43\n",
      "47\n",
      "53\n",
      "59\n",
      "61\n",
      "67\n",
      "71\n"
     ]
    }
   ],
   "source": [
    "def generate_primes():\n",
    "    yield 2\n",
    "    primes = [2]\n",
    "\n",
    "    num = 3\n",
    "    while True:\n",
    "        is_prime = True\n",
    "        for prime in primes:\n",
    "            if prime * prime > num:\n",
    "                break\n",
    "            if num % prime == 0:\n",
    "                is_prime = False\n",
    "                break\n",
    "\n",
    "        if is_prime:\n",
    "            yield num\n",
    "            primes.append(num)\n",
    "\n",
    "        num += 2\n",
    "\n",
    "prime_generator = generate_primes()\n",
    "print(\"First 20 prime numbers:\")\n",
    "for _ in range(20):\n",
    "    prime = next(prime_generator)\n",
    "    print(prime)\n"
   ]
  },
  {
   "cell_type": "markdown",
   "id": "fa43d302-2641-4097-bb22-f1f7374c69ea",
   "metadata": {},
   "source": [
    "# Q6. Write a python program to print the first 10 Fibonacci numbers using a while loop."
   ]
  },
  {
   "cell_type": "code",
   "execution_count": 9,
   "id": "bf0f0e61-6d3c-4632-9b7b-4caca091f5c6",
   "metadata": {},
   "outputs": [
    {
     "name": "stdout",
     "output_type": "stream",
     "text": [
      "0\n",
      "1\n",
      "1\n",
      "2\n",
      "3\n",
      "5\n",
      "8\n",
      "13\n",
      "21\n",
      "34\n"
     ]
    }
   ],
   "source": [
    "def print_fibonacci():\n",
    "    count = 0\n",
    "    a, b = 0, 1\n",
    "\n",
    "    while count < 10:\n",
    "        print(a)\n",
    "        c = a + b\n",
    "        a = b\n",
    "        b = c\n",
    "        count += 1\n",
    "print_fibonacci()"
   ]
  },
  {
   "cell_type": "markdown",
   "id": "d0d91003-e2d4-4fa5-8f6d-474e101c15da",
   "metadata": {},
   "source": [
    "# Q7. Write a List Comprehension to iterate through the given string: ‘pwskills’.Expected output: ['p', 'w', 's', 'k', 'i', 'l','l','s']"
   ]
  },
  {
   "cell_type": "code",
   "execution_count": 10,
   "id": "0c88eeca-663f-4f96-88ff-18a0e66faf16",
   "metadata": {},
   "outputs": [
    {
     "name": "stdout",
     "output_type": "stream",
     "text": [
      "['p', 'w', 's', 'k', 'i', 'l', 'l', 's']\n"
     ]
    }
   ],
   "source": [
    "string = 'pwskills'\n",
    "result = [char for char in string]\n",
    "print(result)"
   ]
  },
  {
   "cell_type": "markdown",
   "id": "3bbce9cb-a66b-48c4-bf9c-2701612d72ed",
   "metadata": {},
   "source": [
    "# Q8. Write a python program to check whether a given number is Palindrome or not using a while loop."
   ]
  },
  {
   "cell_type": "code",
   "execution_count": 12,
   "id": "ba61bdef-2da7-46c5-bea4-cbbe037e5e4e",
   "metadata": {},
   "outputs": [
    {
     "name": "stdin",
     "output_type": "stream",
     "text": [
      "Enter a number:  50\n"
     ]
    },
    {
     "name": "stdout",
     "output_type": "stream",
     "text": [
      "50 is not a palindrome\n"
     ]
    }
   ],
   "source": [
    "def is_palindrome(number):\n",
    "    original_number = number\n",
    "    reversed_number = 0\n",
    "\n",
    "    while number > 0:\n",
    "        digit = number % 10\n",
    "        reversed_number = reversed_number * 10 + digit\n",
    "        number //= 10\n",
    "\n",
    "    if original_number == reversed_number:\n",
    "        return True\n",
    "    else:\n",
    "        return False\n",
    "\n",
    "num = int(input(\"Enter a number: \"))\n",
    "\n",
    "if is_palindrome(num):\n",
    "    print(num, \"is a palindrome\")\n",
    "else:\n",
    "    print(num, \"is not a palindrome\")"
   ]
  },
  {
   "cell_type": "markdown",
   "id": "404c4e15-bee8-472a-a442-5e5b96557a73",
   "metadata": {},
   "source": [
    "# Q9. Write a code to print odd numbers from 1 to 100 using list comprehension."
   ]
  },
  {
   "cell_type": "code",
   "execution_count": 13,
   "id": "5915af86-923b-41d7-9c93-e82302cb518b",
   "metadata": {},
   "outputs": [
    {
     "name": "stdout",
     "output_type": "stream",
     "text": [
      "[1, 3, 5, 7, 9, 11, 13, 15, 17, 19, 21, 23, 25, 27, 29, 31, 33, 35, 37, 39, 41, 43, 45, 47, 49, 51, 53, 55, 57, 59, 61, 63, 65, 67, 69, 71, 73, 75, 77, 79, 81, 83, 85, 87, 89, 91, 93, 95, 97, 99]\n"
     ]
    }
   ],
   "source": [
    "odd_numbers = [num for num in range(1, 101) if num % 2 != 0]\n",
    "print(odd_numbers)"
   ]
  },
  {
   "cell_type": "code",
   "execution_count": null,
   "id": "e48a33dd-b6cd-40d3-8672-b3f5b8e9af20",
   "metadata": {},
   "outputs": [],
   "source": []
  }
 ],
 "metadata": {
  "kernelspec": {
   "display_name": "Python 3 (ipykernel)",
   "language": "python",
   "name": "python3"
  },
  "language_info": {
   "codemirror_mode": {
    "name": "ipython",
    "version": 3
   },
   "file_extension": ".py",
   "mimetype": "text/x-python",
   "name": "python",
   "nbconvert_exporter": "python",
   "pygments_lexer": "ipython3",
   "version": "3.10.8"
  }
 },
 "nbformat": 4,
 "nbformat_minor": 5
}
