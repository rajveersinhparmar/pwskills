{
 "cells": [
  {
   "cell_type": "markdown",
   "id": "8b02e44c-6770-4647-949b-7f3a1ba286b6",
   "metadata": {
    "tags": []
   },
   "source": [
    "# Q1. Explain with an example each when to use a for loop and a while loop."
   ]
  },
  {
   "cell_type": "markdown",
   "id": "41d759b0-9bc8-4d42-ac92-421022be1843",
   "metadata": {},
   "source": [
    "Ans:For Loop:\n",
    "A for loop is typically used when you know the number of iterations in advance or when you need to iterate over a specific range.\n"
   ]
  },
  {
   "cell_type": "code",
   "execution_count": 1,
   "id": "f95bb82c-9915-4cb2-a262-38c7aff05ae8",
   "metadata": {},
   "outputs": [
    {
     "name": "stdout",
     "output_type": "stream",
     "text": [
      "1\n",
      "2\n",
      "3\n",
      "4\n"
     ]
    }
   ],
   "source": [
    "for i in range(1, 5):\n",
    "    print(i)"
   ]
  },
  {
   "cell_type": "markdown",
   "id": "eec484f5-2be9-40b5-ae0e-52be0b30e149",
   "metadata": {},
   "source": [
    "->While Loop:\n",
    "A while loop is useful when you want to repeat a block of code until a certain condition is met, and you may not know in advance how many iterations are needed."
   ]
  },
  {
   "cell_type": "code",
   "execution_count": 2,
   "id": "947af09b-9811-44e1-9364-2daf20e7b474",
   "metadata": {},
   "outputs": [
    {
     "name": "stdout",
     "output_type": "stream",
     "text": [
      "1\n",
      "2\n",
      "3\n",
      "4\n",
      "5\n"
     ]
    }
   ],
   "source": [
    "i = 1\n",
    "while i <= 5:\n",
    "    print(i)\n",
    "    i += 1"
   ]
  },
  {
   "cell_type": "markdown",
   "id": "99adb013-5a8c-48cf-bf94-cfa695bf046a",
   "metadata": {},
   "source": [
    "# Q2. Write a python program to print the sum and product of the first 10 natural numbers using for and while loop."
   ]
  },
  {
   "cell_type": "code",
   "execution_count": 3,
   "id": "b5e8fd19-ea29-44d1-bd43-04e0cdc19e81",
   "metadata": {},
   "outputs": [
    {
     "name": "stdout",
     "output_type": "stream",
     "text": [
      "Using for loop:\n",
      "Sum of the first 10 natural numbers: 55\n",
      "Product of the first 10 natural numbers: 3628800\n"
     ]
    }
   ],
   "source": [
    "# Using a for loop\n",
    "sum_for = 0\n",
    "product_for = 1\n",
    "\n",
    "for i in range(1, 11):\n",
    "    sum_for += i\n",
    "    product_for *= i\n",
    "\n",
    "print(\"Using for loop:\")\n",
    "print(\"Sum of the first 10 natural numbers:\", sum_for)\n",
    "print(\"Product of the first 10 natural numbers:\", product_for)"
   ]
  },
  {
   "cell_type": "code",
   "execution_count": 4,
   "id": "d5135013-ecb1-4ce0-8dfd-7d8cfe1fbfd3",
   "metadata": {},
   "outputs": [
    {
     "name": "stdout",
     "output_type": "stream",
     "text": [
      "\n",
      "Using while loop:\n",
      "Sum of the first 10 natural numbers: 55\n",
      "Product of the first 10 natural numbers: 3628800\n"
     ]
    }
   ],
   "source": [
    "# Using a while loop\n",
    "sum_while = 0\n",
    "product_while = 1\n",
    "i = 1\n",
    "\n",
    "while i <= 10:\n",
    "    sum_while += i\n",
    "    product_while *= i\n",
    "    i += 1\n",
    "\n",
    "print(\"\\nUsing while loop:\")\n",
    "print(\"Sum of the first 10 natural numbers:\", sum_while)\n",
    "print(\"Product of the first 10 natural numbers:\", product_while)"
   ]
  },
  {
   "cell_type": "markdown",
   "id": "bc310d20-fe5c-43e7-bc97-bf1b67dadc80",
   "metadata": {},
   "source": [
    "# Q3. Create a python program to compute the electricity bill for a household. The per-unit charges in rupees are as follows: For the first 100 units, the user will be charged Rs. 4.5 per unit, for the next 100 units, the user will be charged Rs. 6 per unit, and for the next 100 units, the user will be charged Rs. 10 per unit, After 300 units and above the user will be charged Rs. 20 per unit.You are required to take the units of electricity consumed in a month from the user as input. Your program must pass this test case: when the unit of electricity consumed by the user in a month is 310, the total electricity bill should be 2250."
   ]
  },
  {
   "cell_type": "code",
   "execution_count": 5,
   "id": "93ee4ffe-2182-4af9-831f-6efaf7461a75",
   "metadata": {},
   "outputs": [
    {
     "name": "stdin",
     "output_type": "stream",
     "text": [
      "Enter the units of electricity consumed in a month:  350\n"
     ]
    },
    {
     "name": "stdout",
     "output_type": "stream",
     "text": [
      "Total electricity bill: 3050.0\n"
     ]
    }
   ],
   "source": [
    "def calculate_electricity_bill(units):\n",
    "    total_bill = 0\n",
    "\n",
    "    if units <= 100:\n",
    "        total_bill = units * 4.5\n",
    "    elif units <= 200:\n",
    "        total_bill = (100 * 4.5) + ((units - 100) * 6)\n",
    "    elif units <= 300:\n",
    "        total_bill = (100 * 4.5) + (100 * 6) + ((units - 200) * 10)\n",
    "    else:\n",
    "        total_bill = (100 * 4.5) + (100 * 6) + (100 * 10) + ((units - 300) * 20)\n",
    "\n",
    "    return total_bill\n",
    "\n",
    "units_consumed = int(input(\"Enter the units of electricity consumed in a month: \"))\n",
    "bill = calculate_electricity_bill(units_consumed)\n",
    "print(\"Total electricity bill:\", bill)"
   ]
  },
  {
   "cell_type": "markdown",
   "id": "8dc0ae06-035a-4b17-9392-382e0bb5b4fe",
   "metadata": {},
   "source": [
    "# Q4. Create a list of numbers from 1 to 100. Use for loop and while loop to calculate the cube of each number and if the cube of that number is divisible by 4 or 5 then append that number in a list and print that list."
   ]
  },
  {
   "cell_type": "markdown",
   "id": "b6d32d07-8975-4fbc-b13c-249f346c45f8",
   "metadata": {},
   "source": [
    "Ans:Using for loop:"
   ]
  },
  {
   "cell_type": "code",
   "execution_count": 10,
   "id": "f74d3173-3576-4640-ac10-616237e46362",
   "metadata": {},
   "outputs": [
    {
     "name": "stdout",
     "output_type": "stream",
     "text": [
      "Numbers whose cubes are divisible by 4 or 5: [2, 4, 5, 6, 8, 10, 12, 14, 15, 16, 18, 20, 22, 24, 25, 26, 28, 30, 32, 34, 35, 36, 38, 40, 42, 44, 45, 46, 48, 50, 52, 54, 55, 56, 58, 60, 62, 64, 65, 66, 68, 70, 72, 74, 75, 76, 78, 80, 82, 84, 85, 86, 88, 90, 92, 94, 95, 96, 98, 100]\n"
     ]
    }
   ],
   "source": [
    "cubes_list_for = []\n",
    "\n",
    "for num in range(1, 101):\n",
    "    cube = num ** 3\n",
    "    if cube % 4 == 0 or cube % 5 == 0:\n",
    "        cubes_list_for.append(num)\n",
    "\n",
    "print(\"Numbers whose cubes are divisible by 4 or 5:\", cubes_list_for)"
   ]
  },
  {
   "cell_type": "markdown",
   "id": "409c5001-de86-4352-bfdb-de336af261cc",
   "metadata": {},
   "source": [
    "using while loop:"
   ]
  },
  {
   "cell_type": "code",
   "execution_count": 11,
   "id": "ca2f9420-f555-4cf3-b298-014754d38e33",
   "metadata": {},
   "outputs": [
    {
     "name": "stdout",
     "output_type": "stream",
     "text": [
      "Numbers whose cubes are divisible by 4 or 5: [2, 4, 5, 6, 8, 10, 12, 14, 15, 16, 18, 20, 22, 24, 25, 26, 28, 30, 32, 34, 35, 36, 38, 40, 42, 44, 45, 46, 48, 50, 52, 54, 55, 56, 58, 60, 62, 64, 65, 66, 68, 70, 72, 74, 75, 76, 78, 80, 82, 84, 85, 86, 88, 90, 92, 94, 95, 96, 98, 100]\n"
     ]
    }
   ],
   "source": [
    "cubes_list_while = []\n",
    "num = 1\n",
    "\n",
    "while num <= 100:\n",
    "    cube = num ** 3\n",
    "    if cube % 4 == 0 or cube % 5 == 0:\n",
    "        cubes_list_while.append(num)\n",
    "    num += 1\n",
    "\n",
    "print(\"Numbers whose cubes are divisible by 4 or 5:\", cubes_list_while)\n"
   ]
  },
  {
   "cell_type": "markdown",
   "id": "97f6c6e4-c3d4-4373-a090-ef7ad95be85e",
   "metadata": {
    "tags": []
   },
   "source": [
    "# Q5. Write a program to filter count vowels in the below-given string.string = \"I want to become a data scientist\""
   ]
  },
  {
   "cell_type": "code",
   "execution_count": 12,
   "id": "5c38bd9a-e5ca-430f-9486-62f1c7c69911",
   "metadata": {},
   "outputs": [
    {
     "name": "stdout",
     "output_type": "stream",
     "text": [
      "Total number of vowels: 12\n",
      "Filtered vowels: ['i', 'a', 'o', 'e', 'o', 'e', 'a', 'a', 'a', 'i', 'e', 'i']\n"
     ]
    }
   ],
   "source": [
    "def count_vowels(string):\n",
    "    vowels = ['a', 'e', 'i', 'o', 'u']\n",
    "    count = 0\n",
    "    filtered_vowels = []\n",
    "\n",
    "    for char in string.lower():\n",
    "        if char in vowels:\n",
    "            count += 1\n",
    "            filtered_vowels.append(char)\n",
    "\n",
    "    return count, filtered_vowels\n",
    "\n",
    "\n",
    "string = \"I want to become a data scientist\"\n",
    "total_vowels, filtered_vowels_list = count_vowels(string)\n",
    "\n",
    "print(\"Total number of vowels:\", total_vowels)\n",
    "print(\"Filtered vowels:\", filtered_vowels_list)"
   ]
  },
  {
   "cell_type": "code",
   "execution_count": null,
   "id": "2ac4d1a1-d14d-4c41-8002-aa5e4b5865d2",
   "metadata": {},
   "outputs": [],
   "source": []
  }
 ],
 "metadata": {
  "kernelspec": {
   "display_name": "Python 3 (ipykernel)",
   "language": "python",
   "name": "python3"
  },
  "language_info": {
   "codemirror_mode": {
    "name": "ipython",
    "version": 3
   },
   "file_extension": ".py",
   "mimetype": "text/x-python",
   "name": "python",
   "nbconvert_exporter": "python",
   "pygments_lexer": "ipython3",
   "version": "3.10.8"
  }
 },
 "nbformat": 4,
 "nbformat_minor": 5
}
